{
 "cells": [
  {
   "cell_type": "markdown",
   "metadata": {},
   "source": [
    "# Programming for Data Analysis\n",
    "\n",
    "Course: HDip in Computing in Data Analytics  \n",
    "Module: Programming for Data Analysis  \n",
    "Author: Stefania Verduga  \n",
    "\n",
    "## Table of Contents\n",
    "\n",
    "1. [Description](#Description)\n",
    "- 1.1 [Technology and Libraries used for this project](#Technology-and-Libraries-used-for-this-project)\n",
    "2. [Phenomenon Explanation](#Phenomenon-Explanation)\n",
    "3. [Variable Analysis](#Variable-Analysis)\n",
    "4. [Dataset Simulation](#Dataset-Simulation)\n",
    "- 4.1 [Plots](#Plots)\n",
    "5. [Conclusion](#Conclusion)\n",
    "6. [References](#References)\n",
    "\n",
    "## 1. Description\n",
    "\n",
    "For this project, students must create a data set by simulating a real-world phenomenon of their choosing. They may pick any phenomenon they wish. Then, rather than collect data related to the phenomenon, they should model and synthesise such data using Python and numpy.random package for this purpose.\n",
    "\n",
    "Specifically, in this project students should:\n",
    "\n",
    "• Choose a real-world phenomenon that can be measured and for which they could collect at least one-hundred data points across at least four different variables.\n",
    "• Investigate the types of variables involved, their likely distributions, and their relationships with each other.\n",
    "• Synthesise/simulate a data set as closely matching their properties as possible.\n",
    "• Detail their research and implement the simulation in a Jupyter notebook – the data set itself can simply be displayed in an output cell within the notebook.\n",
    "\n",
    "### 1.1 Technology and Libraries used for this project\n",
    "\n",
    "This project was developed using Python [01] and the following packages:\n",
    "\n",
    "* **Numpy**: used to perform a wide variety of mathematical operations on arrays. NumPy is the fundamental package for scientific computing in Python. It is a Python library that provides a multidimensional array object, various derived objects (such as masked arrays and matrices), and an assortment of routines for fast operations on arrays, including mathematical, logical, shape manipulation. [02]\n",
    "* **Pandas**: used to perform data manipulation and analysis.Pandas is a Python library for data analysis. It is built on top of two core Python libraries—matplotlib for data visualization and NumPy for mathematical operations. Pandas acts as a wrapper over these libraries, allowing you to access many of matplotlib's and NumPy's methods with less code. [03]\n",
    "* **Matplotlib**: used for data visualization and graphical ploting. Matplotlib is a comprehensive library for creating static, animated, and interactive visualizations in Python. [04]\n",
    "* **Seaborn**: built on top of matplotlib with similar functionalities. Seaborn is a Python data visualization library based on matplotlib. It provides a high-level interface for drawing attractive and informative statistical graphics. [05]\n",
    "\n",
    "## 2. Phenomenon Explanation\n",
    "\n",
    "For this project I decided to create a random dataset based on a real world phenomenon that explains the factors that contribute to a higher level of salary in a company.\n",
    "\n",
    "There are many factors that influence the well-being of workers, but one of the main ones is undoubtedly the salary. It is important to keep in mind that, for the same job, employees can be rewarded with very different salaries, since there are many factors that influence it, such as the size of the company, productivity, the current cost of living, the years of experience or education level of the workers.\n",
    "\n",
    "To carry out the study of this phenomenon, I have used as reference a dataset found through [Salary_Data Kaggle](https://www.kaggle.com/datasets/mohithsairamreddy/salary-data/data?select=Salary_Data.csv), which analizes the salary of workers based on different variables such as: age, gender, education level, years of experience and the role played within the company.\n",
    "\n",
    "In my case, for this project, I am going to focus on the next variables: \n",
    "\n",
    "- Age\n",
    "- Education Level\n",
    "- Years of experience \n",
    "- Salary\n",
    "\n",
    "* **Age**: the variable age is a numerical value which refers to the age of the employees in the sample. According to the dataset used as reference, the minimun age of the employee in this sample is 21 years old and the maximum age is 62 years old. The mean is around 33 years old.\n",
    "\n",
    "* **Education Level**: this variable is a nominal one with 4 different options: High School, Bachelor's Degree, master's degree and PHD. As per the sample taken as reference, we find that the 45% of the employees have a bachelor's degree. The 27.7% have a master's degree, the 20.4% of the employees have a PHD; and the 6.68% have a High School diploma.\n",
    "\n",
    "* **Years of experience**: in this case, this is a numerical variable which goes from 0 in the case of someone with no experience to 34 years of experience.\n",
    "\n",
    "* **Salary**: this variable is a numerical one which will be related to the years of experience and the education level of the employees. In the sample, the minimum salary of an employee was $35000 per year and the maximum was $250000 per year.\n",
    "\n",
    "In order to start the study on the behavior of all these variables, we need to import some necessary packages for this project."
   ]
  },
  {
   "cell_type": "code",
   "execution_count": 1,
   "metadata": {},
   "outputs": [],
   "source": [
    "import numpy as np \n",
    "import pandas as pd \n",
    "import matplotlib.pyplot as plt"
   ]
  },
  {
   "cell_type": "code",
   "execution_count": 2,
   "metadata": {},
   "outputs": [
    {
     "data": {
      "text/plain": [
       "array([29, 45, 24, 60, 44, 36, 31, 51, 55, 23, 55, 35, 55, 45, 36, 57, 37,\n",
       "       30, 50, 43, 23, 48, 25, 52, 22, 34, 40, 57, 25, 48, 24, 28, 22, 35,\n",
       "       28, 37, 23, 51, 40, 55, 48, 51, 60, 59, 39, 21, 55, 31, 38, 29, 34,\n",
       "       51, 38, 25, 61, 48, 48, 40, 35, 21, 34, 33, 24, 27, 24, 41, 36, 31,\n",
       "       44, 24, 57, 26, 28, 59, 43, 51, 55, 41, 52, 33, 54, 59, 43, 21, 55,\n",
       "       40, 25, 25, 56, 44, 30, 42, 46, 27, 58, 59, 60, 51, 51, 23])"
      ]
     },
     "execution_count": 2,
     "metadata": {},
     "output_type": "execute_result"
    }
   ],
   "source": [
    "# To create the random data for the variables I will seed the random generator to freeze the output.\n",
    "np.random.seed(100)\n",
    "age = np.random.randint(21, 62, 100)\n",
    "age"
   ]
  },
  {
   "cell_type": "code",
   "execution_count": 3,
   "metadata": {},
   "outputs": [
    {
     "data": {
      "text/plain": [
       "40.22"
      ]
     },
     "execution_count": 3,
     "metadata": {},
     "output_type": "execute_result"
    }
   ],
   "source": [
    "# Average age of the sample\n",
    "np.mean(age)"
   ]
  },
  {
   "cell_type": "code",
   "execution_count": 4,
   "metadata": {},
   "outputs": [
    {
     "data": {
      "text/plain": [
       "40.0"
      ]
     },
     "execution_count": 4,
     "metadata": {},
     "output_type": "execute_result"
    }
   ],
   "source": [
    "# Median of the sample\n",
    "np.median(age)"
   ]
  },
  {
   "cell_type": "code",
   "execution_count": 5,
   "metadata": {},
   "outputs": [
    {
     "data": {
      "text/plain": [
       "12.37705942459678"
      ]
     },
     "execution_count": 5,
     "metadata": {},
     "output_type": "execute_result"
    }
   ],
   "source": [
    "# Standard deviation of the sample\n",
    "np.std(age)"
   ]
  },
  {
   "cell_type": "code",
   "execution_count": 6,
   "metadata": {},
   "outputs": [
    {
     "data": {
      "image/png": "[encoded data removed]",
      "text/plain": [
       "<Figure size 640x480 with 1 Axes>"
      ]
     },
     "metadata": {},
     "output_type": "display_data"
    }
   ],
   "source": [
    "age = pd.DataFrame(np.random.normal(40.22, 12.37, 100))\n",
    "plt.hist(age, color = 'navy')\n",
    "plt.title('Age')\n",
    "plt.xlabel('Years')\n",
    "\n",
    "plt.show()"
   ]
  },
  {
   "cell_type": "markdown",
   "metadata": {},
   "source": [
    "## 7. References\n",
    "\n",
    "[01] [Python](https://www.python.org/)\\\n",
    "[02] [Numpy](https://numpy.org/doc/stable/user/whatisnumpy.html)\\\n",
    "[03] [Pandas](https://pandas.pydata.org/)\\\n",
    "[04] [Matplotlib](https://matplotlib.org/)\\\n",
    "[05] [Seaborn](https://seaborn.pydata.org/)\\"
   ]
  }
 ],
 "metadata": {
  "kernelspec": {
   "display_name": "base",
   "language": "python",
   "name": "python3"
  },
  "language_info": {
   "codemirror_mode": {
    "name": "ipython",
    "version": 3
   },
   "file_extension": ".py",
   "mimetype": "text/x-python",
   "name": "python",
   "nbconvert_exporter": "python",
   "pygments_lexer": "ipython3",
   "version": "3.9.13"
  },
  "orig_nbformat": 4
 },
 "nbformat": 4,
 "nbformat_minor": 2
}
