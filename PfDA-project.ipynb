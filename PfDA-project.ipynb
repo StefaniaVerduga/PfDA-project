{
 "cells": [
  {
   "cell_type": "markdown",
   "metadata": {},
   "source": [
    "# Programming for Data Analysis\n",
    "\n",
    "Course: HDip in Computing in Data Analytics  \n",
    "Module: Programming for Data Analysis  \n",
    "Author: Stefania Verduga  \n",
    "\n",
    "## Table of Contents\n",
    "\n",
    "1. [Description](#Description)\n",
    "- 1.1 [Technology and Libraries used for this project](#Technology-and-Libraries-used-for-this-project)\n",
    "2. [Phenomenon Explanation](#Phenomenon-Explanation)\n",
    "3. [Variable Analysis](#Variable-Analysis)\n",
    "4. [Dataset Simulation](#Dataset-Simulation)\n",
    "- 4.1 [Gender](#Gender)\n",
    "- 4.2 [Education Level](#Education-Level)\n",
    "- 4.3 [Years of Experience](#Years-of-Experience)\n",
    "- 4.4 [Salary](#Salary)\n",
    "- 4.5 [Setting the Dataframe](#Setting-the-Dataframe)\n",
    "5. [Conclusion](#Conclusion)\n",
    "6. [References](#References)\n",
    "\n",
    "## 1. Description\n",
    "\n",
    "For this project, students must create a data set by simulating a real-world phenomenon of their choosing. They may pick any phenomenon they wish. Then, rather than collect data related to the phenomenon, they should model and synthesise such data using Python and numpy.random package for this purpose.\n",
    "\n",
    "Specifically, in this project students should:\n",
    "\n",
    "• Choose a real-world phenomenon that can be measured and for which they could collect at least one-hundred data points across at least four different variables.\n",
    "• Investigate the types of variables involved, their likely distributions, and their relationships with each other.\n",
    "• Synthesise/simulate a data set as closely matching their properties as possible.\n",
    "• Detail their research and implement the simulation in a Jupyter notebook – the data set itself can simply be displayed in an output cell within the notebook.\n",
    "\n",
    "### 1.1 Technology and Libraries used for this project\n",
    "\n",
    "This project was developed using Python [01] and the following packages:\n",
    "\n",
    "* **Numpy**: used to perform a wide variety of mathematical operations on arrays. NumPy is the fundamental package for scientific computing in Python. It is a Python library that provides a multidimensional array object, various derived objects (such as masked arrays and matrices), and an assortment of routines for fast operations on arrays, including mathematical, logical, shape manipulation. [02]\n",
    "* **Pandas**: used to perform data manipulation and analysis.Pandas is a Python library for data analysis. It is built on top of two core Python libraries—matplotlib for data visualization and NumPy for mathematical operations. Pandas acts as a wrapper over these libraries, allowing you to access many of matplotlib's and NumPy's methods with less code. [03]\n",
    "* **Matplotlib**: used for data visualization and graphical ploting. Matplotlib is a comprehensive library for creating static, animated, and interactive visualizations in Python. [04]\n",
    "* **Seaborn**: built on top of matplotlib with similar functionalities. Seaborn is a Python data visualization library based on matplotlib. It provides a high-level interface for drawing attractive and informative statistical graphics. [05]\n",
    "\n",
    "## 2. Phenomenon Explanation\n",
    "\n",
    "For this project I decided to create a random dataset based on a real world phenomenon that explains the factors that contribute to a higher level of salary in a company.\n",
    "\n",
    "There are many factors that influence the well-being of workers, but one of the main ones is undoubtedly the salary. It is important to keep in mind that, for the same job, employees can be rewarded with very different salaries, since there are many factors that influence it, such as the size of the company, productivity, the current cost of living, the years of experience or education level of the workers.\n",
    "\n",
    "To carry out the study of this phenomenon, I have used as reference a dataset found through [Salary_Data Kaggle](https://www.kaggle.com/datasets/mohithsairamreddy/salary-data/data?select=Salary_Data.csv), which analizes the salary of workers based on different variables such as: age, gender, education level, years of experience and the role played within the company.\n",
    "\n",
    "In my case, for this project, I am going to focus on the next variables: \n",
    "\n",
    "- Gender\n",
    "- Education Level\n",
    "- Years of experience \n",
    "- Salary\n",
    "\n",
    "## 3. Variable Analysis\n",
    "\n",
    "* **Gender**: the variable gender is a nominal variable with two different outputs, male and female. In the case of the database taken as reference, the 54% of the employees were male and the 46% were females.\n",
    "\n",
    "* **Education Level**: this variable is a categorical variable with 4 different options: High School, Bachelor's Degree, master's degree and PHD. As per the sample taken as reference, we find that the 45% of the employees have a bachelor's degree. The 28% have a master's degree, the 20% of the employees have a PHD; and the 7% have a High School diploma.\n",
    "\n",
    "* **Years of experience**: in this case, this is a non negative numerical variable which goes from 0 in the case of someone with no experience to 34 years of experience in the reference dataset.\n",
    "\n",
    "* **Salary**: this variable is a numerical one which will be related to the years of experience and the education level of the employees. In the sample, the minimum salary of an employee was $35000 per year and the maximum was $250000 per year.\n",
    "Other important information taken out from the original dataset is the following:\n",
    "- High School employees have an average salary of $36700 per year, being the min salary 25000 and the max 166000\n",
    "- Bachelors Degree employees, have an average salary of 95000 per year, being the min salary 30000 and the max 250000\n",
    "- Master Degree employees, have an average salary of 130000 per year, being the min salary 32000 and the max 228000\n",
    "- PhD employees, have an average salary of 165000 per year, being the min salary 30000 and the max salary 250000\n",
    "\n",
    "In the case of the years of experience, I will set the sample in diferent ranges, for example:\n",
    "- 0 to 5 years: employees with experience between 0 and 5 years have an average salary of $69000 per year, being the min salary $25000 and the max $182000 per year.\n",
    "- 6 to 15 years: employees with experience between 6 and 15 years have an average salary of $138000 per year, being the min salary $45000 and the max $210000\n",
    "- 16 to 25 years: employees with experience between 16 to 25 years have an average salary of $184000 per year, being the min salary $100000 and the max $250000\n",
    "- More than 25 years: employees with more that 25 years of experience, earn an average salary of $185000 per year, being the min salary $121000 and the max $200000\n",
    "\n",
    "## 4. Dataset Simulation\n",
    "\n",
    "In order to start the study on the behavior of all these variables, we need to import some necessary packages for this project."
   ]
  },
  {
   "cell_type": "code",
   "execution_count": 1,
   "metadata": {},
   "outputs": [],
   "source": [
    "import numpy as np \n",
    "import pandas as pd \n",
    "import matplotlib.pyplot as plt\n",
    "import seaborn as sns"
   ]
  },
  {
   "cell_type": "markdown",
   "metadata": {},
   "source": [
    "### 4.1 Gender\n",
    "In order to create the random data for the variables I will seed the random generator to freeze the output.\n",
    "In the original dataset, the percentage of men employees was 54% and women employees was 46%, so I have reflected this in my code using the numpy random choice package [06]"
   ]
  },
  {
   "cell_type": "code",
   "execution_count": 2,
   "metadata": {},
   "outputs": [
    {
     "name": "stdout",
     "output_type": "stream",
     "text": [
      "['Female' 'Male' 'Male' 'Female' 'Male' 'Male' 'Female' 'Female' 'Male'\n",
      " 'Female' 'Female' 'Male' 'Male' 'Male' 'Male' 'Female' 'Female' 'Male'\n",
      " 'Female' 'Male' 'Male' 'Female' 'Female' 'Male' 'Male' 'Male' 'Male'\n",
      " 'Male' 'Female' 'Male' 'Female' 'Female' 'Male' 'Male' 'Male' 'Female'\n",
      " 'Female' 'Male' 'Female' 'Female' 'Female' 'Female' 'Female' 'Male'\n",
      " 'Male' 'Female' 'Female' 'Male' 'Male' 'Female' 'Female' 'Female' 'Male'\n",
      " 'Female' 'Male' 'Male' 'Male' 'Male' 'Male' 'Male' 'Male' 'Female'\n",
      " 'Female' 'Male' 'Female' 'Female' 'Female' 'Male' 'Male' 'Male' 'Male'\n",
      " 'Male' 'Male' 'Female' 'Female' 'Female' 'Female' 'Male' 'Male' 'Male'\n",
      " 'Male' 'Male' 'Male' 'Female' 'Male' 'Male' 'Female' 'Female' 'Male'\n",
      " 'Female' 'Female' 'Male' 'Male' 'Male' 'Male' 'Female' 'Male' 'Female'\n",
      " 'Male' 'Female']\n"
     ]
    }
   ],
   "source": [
    "np.random.seed(100)\n",
    "gender = ['Male', 'Female']\n",
    "gender = np.random.choice(gender, size=100, p=[0.54, 0.46])\n",
    "print(gender)"
   ]
  },
  {
   "cell_type": "code",
   "execution_count": 3,
   "metadata": {},
   "outputs": [
    {
     "name": "stdout",
     "output_type": "stream",
     "text": [
      "56\n",
      "44\n"
     ]
    }
   ],
   "source": [
    "# Count the number of male and female in the sample to make sure the percentages are accurate.\n",
    "male_count = np.count_nonzero(gender == 'Male')\n",
    "female_count = np.count_nonzero(gender == 'Female')\n",
    "\n",
    "print(male_count)\n",
    "print(female_count)\n"
   ]
  },
  {
   "cell_type": "code",
   "execution_count": 4,
   "metadata": {},
   "outputs": [
    {
     "data": {
      "image/png": "[encoded data removed]",
      "text/plain": [
       "<Figure size 640x480 with 1 Axes>"
      ]
     },
     "metadata": {},
     "output_type": "display_data"
    }
   ],
   "source": [
    "# Generate a plot to see the distribution of this variable.\n",
    "plt.hist(gender, bins=2, color=\"blue\", alpha=0.4)\n",
    "plt.title(\"Gender Distribution\")\n",
    "plt.xlabel(\"Gender\")\n",
    "plt.ylabel(\"Frequency\")\n",
    "plt.show()"
   ]
  },
  {
   "cell_type": "markdown",
   "metadata": {},
   "source": [
    "I have used Matplotlib library to create the above histogram representing the distribution of the variable gender in the dataset.\n",
    "The variable gender has 2 possible options, male and female and due to this, two bins were used in this histogram, one for each gender category. The y-axis represents the frequency of count of each gender within the sample created.\n",
    "I would suggest that this variable might follow a Bernoulli distribution. A Bernouilli random variable is a random variable that can only take two possible values, usually 0 and 1 with 2 different probabilities, in this case male and female.\n",
    "\n",
    "### 4.2 Education Level\n",
    "Similar to the previous variable, the variable Education Level, has 4 possible outputs: High school, Bachelor degree, Master degree and PHD. \n",
    "In order to do that, I defined a function called 'generate_education_level' that generates a random sample of education level based on specified probabilities. \n",
    "The different education level options and their probabilities were inputted as lists and the numpy random function was used to randomly choose values from the specified education levels based on the given probabilities. The 'size' parameter determines the number of samples to generate which in this case is 100. "
   ]
  },
  {
   "cell_type": "code",
   "execution_count": 5,
   "metadata": {},
   "outputs": [
    {
     "name": "stdout",
     "output_type": "stream",
     "text": [
      "['Master degree' 'Master degree' 'Master degree' 'Bachelor degree'\n",
      " 'Master degree' 'PHD' 'Master degree' 'PHD' 'PHD' 'Bachelor degree'\n",
      " 'High school' 'Bachelor degree' 'PHD' 'PHD' 'Bachelor degree'\n",
      " 'Bachelor degree' 'Master degree' 'Bachelor degree' 'Bachelor degree'\n",
      " 'Master degree' 'Bachelor degree' 'Master degree' 'Master degree'\n",
      " 'High school' 'Bachelor degree' 'Bachelor degree' 'Bachelor degree'\n",
      " 'Bachelor degree' 'Bachelor degree' 'Bachelor degree' 'Bachelor degree'\n",
      " 'Bachelor degree' 'PHD' 'High school' 'High school' 'Bachelor degree'\n",
      " 'Master degree' 'PHD' 'PHD' 'PHD' 'Bachelor degree' 'Master degree'\n",
      " 'Master degree' 'Bachelor degree' 'PHD' 'Bachelor degree' 'PHD'\n",
      " 'Master degree' 'Bachelor degree' 'Bachelor degree' 'Bachelor degree'\n",
      " 'Bachelor degree' 'Master degree' 'Master degree' 'Bachelor degree'\n",
      " 'Bachelor degree' 'Master degree' 'Bachelor degree' 'Bachelor degree'\n",
      " 'Bachelor degree' 'Bachelor degree' 'Bachelor degree' 'Bachelor degree'\n",
      " 'PHD' 'Master degree' 'Master degree' 'Bachelor degree' 'Bachelor degree'\n",
      " 'Master degree' 'Master degree' 'Bachelor degree' 'Bachelor degree'\n",
      " 'Bachelor degree' 'Bachelor degree' 'PHD' 'PHD' 'Master degree'\n",
      " 'Bachelor degree' 'Bachelor degree' 'PHD' 'Master degree' 'PHD'\n",
      " 'Bachelor degree' 'Bachelor degree' 'Bachelor degree' 'PHD'\n",
      " 'Bachelor degree' 'Master degree' 'PHD' 'Bachelor degree'\n",
      " 'Bachelor degree' 'Master degree' 'PHD' 'PHD' 'Bachelor degree'\n",
      " 'Master degree' 'Master degree' 'PHD' 'Bachelor degree' 'Bachelor degree']\n"
     ]
    }
   ],
   "source": [
    "# Generate the variable for Education level\n",
    "def generate_education_level(size):\n",
    "    education_levels = ['High school', 'Bachelor degree', 'Master degree', 'PHD']\n",
    "    probabilities = [0.07, 0.45, 0.28, 0.20]  # Probabilities according to the original dataset\n",
    "\n",
    "    # Generate the new variable\n",
    "    education_data = np.random.choice(education_levels, size=size, p=probabilities)\n",
    "\n",
    "    return education_data\n",
    "\n",
    "# Set a sample of 100 observations\n",
    "education_level = generate_education_level(100)\n",
    "\n",
    "# Print the sample generated\n",
    "print(education_level)"
   ]
  },
  {
   "cell_type": "code",
   "execution_count": 6,
   "metadata": {},
   "outputs": [
    {
     "name": "stdout",
     "output_type": "stream",
     "text": [
      "4\n",
      "49\n",
      "26\n",
      "21\n"
     ]
    }
   ],
   "source": [
    "# Count the number of education level in the sample to make sure they approximate to the percentage previously given.\n",
    "HighSchool = np.count_nonzero(education_level == 'High school')\n",
    "BachelorDegree = np.count_nonzero(education_level == 'Bachelor degree')\n",
    "MasterDegree = np.count_nonzero(education_level == 'Master degree')\n",
    "PHD = np.count_nonzero(education_level == 'PHD')\n",
    "\n",
    "print(HighSchool)\n",
    "print(BachelorDegree)\n",
    "print(MasterDegree)\n",
    "print(PHD)"
   ]
  },
  {
   "cell_type": "code",
   "execution_count": 7,
   "metadata": {},
   "outputs": [
    {
     "data": {
      "image/png": "[encoded data removed]",
      "text/plain": [
       "<Figure size 640x480 with 1 Axes>"
      ]
     },
     "metadata": {},
     "output_type": "display_data"
    }
   ],
   "source": [
    "# Generate a plot to see the distribution of this variable.\n",
    "plt.hist(education_level, bins=4, color=\"blue\", alpha=0.4)\n",
    "plt.title(\"Education Level\")\n",
    "plt.xlabel(\"Education Level\")\n",
    "plt.ylabel(\"Frequency\")\n",
    "plt.show()"
   ]
  },
  {
   "cell_type": "markdown",
   "metadata": {},
   "source": [
    "The resulting histogram visually represents the distribution of education levels in the random dataset, showing the frequency of each education level. As we can see in the histogram, the bell shape of the normal distribution can be seen on it.\n",
    "In this case, most of the employees in the variable have a Bachelor degree followed by those with a Master degree, so most of the population is concentrated on those levels of education.\n",
    "\n",
    "### 4.3 Years of Experience\n",
    "For this variable, I have created a random dataset for the variable Years of Experience. Taking into account that in the original dataset, the minimun experience time was 0 with employees with no previous experience, to 34 years of experience.\n",
    "\n",
    "With the numpy function I have generated random integers. The parameters are (low, high, size), where 'low' is the lowest (inclusive) integer to be drawn, 'high' is one more than the highest integer to be drawn as this value is exlusive, so if we need a sample between 0 to 34, the highest value has to be 35. The size specified is 100 which is the sample we need for the random dataset."
   ]
  },
  {
   "cell_type": "code",
   "execution_count": 8,
   "metadata": {},
   "outputs": [
    {
     "name": "stdout",
     "output_type": "stream",
     "text": [
      "[ 8 24  3 23 15 10 30 34  2 34 14 34 24 15 16  9 29 22  2 27  4 31  1 13\n",
      " 19  4 27  3  7  1 14  7 16  2 30 19 34 27 30 18  0 34 10 17  8 13 30 17\n",
      "  4 27 27 19 14  0 13 12  3  6  3 20 15 10 23  3  5  7 22 30 34 20 31 12\n",
      " 33 22  0 34 19  4  4 23  9 21 25  6 30 30  2 24 17 25 16 12 22 18  3 28\n",
      " 31 20 10  8]\n"
     ]
    }
   ],
   "source": [
    "# Generate a sample of 100 employees with years of experience between 0 and 34\n",
    "np.random.seed(100)\n",
    "years_experience = np.random.randint(0, 35, size=100)\n",
    "\n",
    "# Print the generated samples\n",
    "print(years_experience)"
   ]
  },
  {
   "cell_type": "code",
   "execution_count": 9,
   "metadata": {},
   "outputs": [
    {
     "name": "stdout",
     "output_type": "stream",
     "text": [
      "Mean Years of Experience: 16.67\n",
      "Standard Deviation of Years of Experience: 10.519557975504485\n"
     ]
    }
   ],
   "source": [
    "# Calculate the mean for the variable Years of experience\n",
    "mean_experience = np.mean(years_experience)\n",
    "std_deviation = np.std(years_experience)\n",
    "\n",
    "print(\"Mean Years of Experience:\", mean_experience)\n",
    "print(f\"Standard Deviation of Years of Experience: {std_deviation}\")"
   ]
  },
  {
   "cell_type": "code",
   "execution_count": 10,
   "metadata": {},
   "outputs": [
    {
     "data": {
      "image/png": "[encoded data removed]",
      "text/plain": [
       "<Figure size 640x480 with 1 Axes>"
      ]
     },
     "metadata": {},
     "output_type": "display_data"
    }
   ],
   "source": [
    "# Generate histogram for the variable Years of experience\n",
    "plt.hist(years_experience, bins=20, color=\"blue\", alpha=0.7)\n",
    "plt.title(\"Distribution of Years of Experience\")\n",
    "plt.xlabel(\"Years of Experience\")\n",
    "plt.ylabel(\"Frequency\")\n",
    "plt.show()"
   ]
  },
  {
   "cell_type": "code",
   "execution_count": 11,
   "metadata": {},
   "outputs": [
    {
     "data": {
      "image/png": "[encoded data removed]",
      "text/plain": [
       "<Figure size 640x480 with 1 Axes>"
      ]
     },
     "metadata": {},
     "output_type": "display_data"
    }
   ],
   "source": [
    "# There's not any specific distribution followed by this variable, so I create a boxplot to better understand the behavior of this variable\n",
    "plt.boxplot(years_experience)\n",
    "plt.title(\"Box Plot of Years of Experience\")\n",
    "plt.ylabel(\"Years of Experience\")\n",
    "plt.show()"
   ]
  },
  {
   "cell_type": "markdown",
   "metadata": {},
   "source": [
    "As in the previous variables, I have seed the random generator to freeze the output. So that, we can see that the mean of the Years of experience variable is 16 years.\n",
    "In this case, following the information provided by the histogram, we can see that this variable doesn't follow any specific patron, we can say that this variable could follow an uniform distribution as the data values are evenly distributed throughout the range of the data.\n",
    "\n",
    "In the boxplot, we can see that the median which is approximately 15 marks the mid-point of the data and is shown by the line that divides the box into two parts. Half the scores are greater than or equal to this value and half are less. The central \"box\" represents the middle 50% of the values of the variable, so the 50% of the values are set between 5 and 26 years of experience. In this case, the median is located in the center of the box, which indicates that the distribution could be symmetrical.\n",
    "Also, we can see that the 25% of the values from the first quartile are less than or equal to 5 years of experience, which differs from the fourth quartile, where 25% of the data are concentrated in the range of 26 to 34 years of experience [07]\n",
    "\n",
    "### 4.4 Salary\n",
    "The salary variable in this dataset is going to depend on the variable Education Level and the variable Years of Experience as they have a direct correlation between them. The higher the level of education and years of experience of each employee, the higher the salary variable will be.\n",
    "\n",
    "So, in the next code, I defined the function 'generate_salary' that takes two parameters: 'education_level' and 'years_experience'.\n",
    "For the first parameter, I assigned a base salary for each education level, according to the data displayed on the original data set taken as reference. So, the base salaries are set as follows:\n",
    "\n",
    "- High School = 25000 per year.\n",
    "- Bachelor Degree = 30000 per year.\n",
    "- Master Degree = 32000 per year.\n",
    "- PhD = 35000 per year.\n",
    "\n",
    "Based on the previous information, a conditional function was used to assign different salary base depending on the education level.\n",
    "\n",
    "For the second parameter, the range of years of experience goes from 0 to 34 years, so I set different ranges of years of experience and added a multiplier coefficient, that is:\n",
    "\n",
    "- Between 0 and 5 years of experience, the base salary was increased by 1000 per year.\n",
    "- Between 6 and 15 years of experience, the base salary increased by 1500 per year.\n",
    "- Between 16 and 25 years of experience, the base salary is increased by 2000 per year.\n",
    "- And for more than 25 years of experience, the base salary is increased by 2500 per year.\n",
    "\n",
    "These data are approximations, which I tried to make as realistic as possible, since in the original sample I did not find any particular pattern of salary increase per year of experience, as these increases may be due to other variables such as the bargaining power of the workers."
   ]
  },
  {
   "cell_type": "code",
   "execution_count": 12,
   "metadata": {},
   "outputs": [
    {
     "name": "stdout",
     "output_type": "stream",
     "text": [
      "[42000, 50000, 66000, 100000, 25000, 100000, 64000, 95000, 35000, 53000, 51500, 26000, 114500, 73000, 100000, 68000, 110000, 34000, 69000, 95000, 104500, 40000, 105000, 105000, 66000, 66000, 51500, 80000, 54500, 41500, 74000, 81000, 69000, 102500, 57000, 73000, 64000, 32000, 66000, 34000, 115000, 38500, 115000, 51500, 102500, 97500, 100000, 43500, 77000, 102000, 39000, 45500, 102500, 51500, 61000, 97500, 76000, 30000, 63000, 27000, 76000, 34000, 32000, 73000, 33000, 78000, 90000, 39000, 81000, 54500, 44500, 52500, 78000, 47000, 44500, 85000, 102500, 64000, 75000, 64000, 77000, 68000, 28000, 47000, 51500, 34000, 66000, 48000, 44000, 35000, 110000, 68000, 44000, 110000, 78000, 64000, 62000, 115000, 74000, 28000]\n"
     ]
    }
   ],
   "source": [
    "# Generate the variable for salary, depending on the education level and the years of experience\n",
    "# First, adjust salary based on minimal salaries\n",
    "import random\n",
    "def generate_salary(education_level, years_experience):\n",
    "    if education_level == 'High school':\n",
    "        base_salary = 25000\n",
    "    elif education_level == 'Bachelor degree':\n",
    "        base_salary = 30000\n",
    "    elif education_level == 'Master degree':\n",
    "        base_salary = 32000\n",
    "    else:\n",
    "        base_salary = 35000\n",
    "\n",
    "# Adjust the salary based on the years of experience\n",
    "    if 0 <= years_experience <= 5:\n",
    "        salary = base_salary + years_experience * 1000\n",
    "    elif 6 <= years_experience <= 15:\n",
    "        salary = base_salary + years_experience * 1500\n",
    "    elif 16 <= years_experience <= 25:\n",
    "        salary = base_salary + years_experience * 2000\n",
    "    else:\n",
    "        salary = base_salary + years_experience * 2500\n",
    "\n",
    "    return salary\n",
    "\n",
    "# Generate 100 random observations\n",
    "observations = []\n",
    "for _ in range(100):\n",
    "    education_level = np.random.choice(['High school', 'Bachelor degree', 'Master degree', 'PHD'])\n",
    "    years_experience = np.random.randint(0, 35)\n",
    "    salary = generate_salary(education_level, years_experience)\n",
    "    observations.append((education_level, years_experience, salary))\n",
    "\n",
    "salaries = [observation[2] for observation in observations]\n",
    "\n",
    "print(salaries)"
   ]
  },
  {
   "cell_type": "markdown",
   "metadata": {},
   "source": [
    "In order to generate 100 observations of the salary variable, a list called 'observations' was created to store tuples of (education_level, years_experience, salary) for each employee. A loop is used to generate 100 random observations of each variable and eventually, the observation, represented as a tuple, is appended to the observations list.\n",
    "\n",
    "Finally, the 'salaries' list is created by extracting the salary component from each observation tuple [08].\n",
    "\n",
    "### 4.5 Setting the Dataframe"
   ]
  },
  {
   "cell_type": "code",
   "execution_count": 13,
   "metadata": {},
   "outputs": [
    {
     "name": "stdout",
     "output_type": "stream",
     "text": [
      "    Gender  Education Level  Years of Experience  Salary\n",
      "0   Female  Bachelor degree                    8   42000\n",
      "1     Male    Master degree                   12   50000\n",
      "2     Male  Bachelor degree                   18   66000\n",
      "3   Female  Bachelor degree                   28  100000\n",
      "4     Male      High school                    0   25000\n",
      "..     ...              ...                  ...     ...\n",
      "95  Female    Master degree                   16   64000\n",
      "96    Male  Bachelor degree                   16   62000\n",
      "97  Female  Bachelor degree                   34  115000\n",
      "98    Male  Bachelor degree                   22   74000\n",
      "99  Female      High school                    3   28000\n",
      "\n",
      "[100 rows x 4 columns]\n"
     ]
    }
   ],
   "source": [
    "# Generate the complete dataset\n",
    "data = {\n",
    "    'Gender': gender,\n",
    "    'Education Level': [observation[0] for observation in observations],\n",
    "    'Years of Experience': [observation[1] for observation in observations],\n",
    "    'Salary': [observation[2] for observation in observations]\n",
    "}\n",
    "\n",
    "df = pd.DataFrame(data)\n",
    "\n",
    "print(df)"
   ]
  },
  {
   "cell_type": "code",
   "execution_count": 14,
   "metadata": {},
   "outputs": [
    {
     "name": "stdout",
     "output_type": "stream",
     "text": [
      "<class 'pandas.core.frame.DataFrame'>\n",
      "RangeIndex: 100 entries, 0 to 99\n",
      "Data columns (total 4 columns):\n",
      " #   Column               Non-Null Count  Dtype \n",
      "---  ------               --------------  ----- \n",
      " 0   Gender               100 non-null    object\n",
      " 1   Education Level      100 non-null    object\n",
      " 2   Years of Experience  100 non-null    int64 \n",
      " 3   Salary               100 non-null    int64 \n",
      "dtypes: int64(2), object(2)\n",
      "memory usage: 3.2+ KB\n",
      "None\n",
      "       Years of Experience         Salary\n",
      "count           100.000000     100.000000\n",
      "mean             17.090000   66720.000000\n",
      "std               9.552719   25820.800479\n",
      "min               0.000000   25000.000000\n",
      "25%              10.000000   44500.000000\n",
      "50%              17.000000   66000.000000\n",
      "75%              25.000000   82000.000000\n",
      "max              34.000000  115000.000000\n"
     ]
    }
   ],
   "source": [
    "print(df.info())\n",
    "print(df.describe())"
   ]
  },
  {
   "cell_type": "markdown",
   "metadata": {},
   "source": [
    "## 7. References\n",
    "\n",
    "[01] [Python](https://www.python.org/)\\\n",
    "[02] [Numpy](https://numpy.org/doc/stable/user/whatisnumpy.html)\\\n",
    "[03] [Pandas](https://pandas.pydata.org/)\\\n",
    "[04] [Matplotlib](https://matplotlib.org/)\\\n",
    "[05] [Seaborn](https://seaborn.pydata.org/)\\\n",
    "[06] [Numpy-Random] (https://numpy.org/doc/stable/reference/random/generated/numpy.random.choice.html)\\\n",
    "[07] [Boxplot] (https://www.geeksforgeeks.org/box-plot-in-python-using-matplotlib/)\\\n",
    "[08] [List-and-append-in-Python] (https://realpython.com/python-append/)\\"
   ]
  }
 ],
 "metadata": {
  "kernelspec": {
   "display_name": "base",
   "language": "python",
   "name": "python3"
  },
  "language_info": {
   "codemirror_mode": {
    "name": "ipython",
    "version": 3
   },
   "file_extension": ".py",
   "mimetype": "text/x-python",
   "name": "python",
   "nbconvert_exporter": "python",
   "pygments_lexer": "ipython3",
   "version": "3.9.13"
  },
  "orig_nbformat": 4
 },
 "nbformat": 4,
 "nbformat_minor": 2
}
