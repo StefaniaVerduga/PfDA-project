{
 "cells": [
  {
   "cell_type": "markdown",
   "metadata": {},
   "source": [
    "# Programming for Data Analysis\n",
    "\n",
    "Course: HDip in Computing in Data Analytics  \n",
    "Module: Programming for Data Analysis  \n",
    "Author: Stefania Verduga  \n",
    "\n",
    "## Table of Contents\n",
    "\n",
    "1. [Description](#Description)\n",
    "- 1.1 [Technology and Libraries used for this project](#Technology-and-Libraries-used-for-this-project)\n",
    "2. [Phenomenon Explanation](#Phenomenon-Explanation)\n",
    "3. [Variable Analysis](#Variable-Analysis)\n",
    "4. [Dataset Simulation](#Dataset-Simulation)\n",
    "- 4.1 [Plots](#Plots)\n",
    "5. [Conclusion](#Conclusion)\n",
    "6. [References](#References)\n",
    "\n",
    "## 1. Description\n",
    "\n",
    "For this project, students must create a data set by simulating a real-world phenomenon of their choosing. They may pick any phenomenon they wish. Then, rather than collect data related to the phenomenon, they should model and synthesise such data using Python and numpy.random package for this purpose.\n",
    "\n",
    "Specifically, in this project students should:\n",
    "\n",
    "• Choose a real-world phenomenon that can be measured and for which they could collect at least one-hundred data points across at least four different variables.\n",
    "• Investigate the types of variables involved, their likely distributions, and their relationships with each other.\n",
    "• Synthesise/simulate a data set as closely matching their properties as possible.\n",
    "• Detail their research and implement the simulation in a Jupyter notebook – the data set itself can simply be displayed in an output cell within the notebook.\n",
    "\n",
    "### 1.1 Technology and Libraries used for this project\n",
    "\n",
    "This project was developed using Python [01] and the following packages:\n",
    "\n",
    "* **Numpy**: used to perform a wide variety of mathematical operations on arrays. NumPy is the fundamental package for scientific computing in Python. It is a Python library that provides a multidimensional array object, various derived objects (such as masked arrays and matrices), and an assortment of routines for fast operations on arrays, including mathematical, logical, shape manipulation. [02]\n",
    "* **Pandas**: used to perform data manipulation and analysis.Pandas is a Python library for data analysis. It is built on top of two core Python libraries—matplotlib for data visualization and NumPy for mathematical operations. Pandas acts as a wrapper over these libraries, allowing you to access many of matplotlib's and NumPy's methods with less code. [03]\n",
    "* **Matplotlib**: used for data visualization and graphical ploting. Matplotlib is a comprehensive library for creating static, animated, and interactive visualizations in Python. [04]\n",
    "* **Seaborn**: built on top of matplotlib with similar functionalities. Seaborn is a Python data visualization library based on matplotlib. It provides a high-level interface for drawing attractive and informative statistical graphics. [05]\n",
    "\n",
    "## 2. Phenomenon Explanation\n",
    "\n",
    "\n",
    "\n",
    "## 7. References\n",
    "\n",
    "[01] [Python](https://www.python.org/)\\\n",
    "[02] [Numpy](https://numpy.org/doc/stable/user/whatisnumpy.html)\\\n",
    "[03] [Pandas](https://pandas.pydata.org/)\\\n",
    "[04] [Matplotlib](https://matplotlib.org/)\\\n",
    "[05] [Seaborn](https://seaborn.pydata.org/)\\"
   ]
  },
  {
   "cell_type": "markdown",
   "metadata": {},
   "source": []
  }
 ],
 "metadata": {
  "language_info": {
   "name": "python"
  },
  "orig_nbformat": 4
 },
 "nbformat": 4,
 "nbformat_minor": 2
}
