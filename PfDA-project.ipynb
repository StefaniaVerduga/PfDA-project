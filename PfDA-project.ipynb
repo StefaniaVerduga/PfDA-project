{
 "cells": [
  {
   "cell_type": "markdown",
   "metadata": {},
   "source": [
    "# Programming for Data Analysis\n",
    "\n",
    "Course: HDip in Computing in Data Analytics  \n",
    "Module: Programming for Data Analysis  \n",
    "Author: Stefania Verduga  \n",
    "\n",
    "## Table of Contents\n",
    "\n",
    "1. [Description](#Description)\n",
    "- 1.1 [Technology and Libraries used for this project](#Technology-and-Libraries-used-for-this-project)\n",
    "2. [Phenomenon Explanation](#Phenomenon-Explanation)\n",
    "3. [Variable Analysis](#Variable-Analysis)\n",
    "4. [Dataset Simulation](#Dataset-Simulation)\n",
    "- 4.1 [Plots](#Plots)\n",
    "5. [Conclusion](#Conclusion)\n",
    "6. [References](#References)\n",
    "\n",
    "## 1. Description\n",
    "\n",
    "For this project, students must create a data set by simulating a real-world phenomenon of their choosing. They may pick any phenomenon they wish. Then, rather than collect data related to the phenomenon, they should model and synthesise such data using Python and numpy.random package for this purpose.\n",
    "\n",
    "Specifically, in this project students should:\n",
    "\n",
    "• Choose a real-world phenomenon that can be measured and for which they could collect at least one-hundred data points across at least four different variables.\n",
    "• Investigate the types of variables involved, their likely distributions, and their relationships with each other.\n",
    "• Synthesise/simulate a data set as closely matching their properties as possible.\n",
    "• Detail their research and implement the simulation in a Jupyter notebook – the data set itself can simply be displayed in an output cell within the notebook.\n",
    "\n",
    "### 1.1 Technology and Libraries used for this project\n",
    "\n",
    "This project was developed using Python [01] and the following packages:\n",
    "\n",
    "* **Numpy**: used to perform a wide variety of mathematical operations on arrays. NumPy is the fundamental package for scientific computing in Python. It is a Python library that provides a multidimensional array object, various derived objects (such as masked arrays and matrices), and an assortment of routines for fast operations on arrays, including mathematical, logical, shape manipulation. [02]\n",
    "* **Pandas**: used to perform data manipulation and analysis.Pandas is a Python library for data analysis. It is built on top of two core Python libraries—matplotlib for data visualization and NumPy for mathematical operations. Pandas acts as a wrapper over these libraries, allowing you to access many of matplotlib's and NumPy's methods with less code. [03]\n",
    "* **Matplotlib**: used for data visualization and graphical ploting. Matplotlib is a comprehensive library for creating static, animated, and interactive visualizations in Python. [04]\n",
    "* **Seaborn**: built on top of matplotlib with similar functionalities. Seaborn is a Python data visualization library based on matplotlib. It provides a high-level interface for drawing attractive and informative statistical graphics. [05]\n",
    "\n",
    "## 2. Phenomenon Explanation\n",
    "\n",
    "For this project I decided to create a random dataset based on a real world phenomenon that explains the factors that contribute to a higher level of salary in a company.\n",
    "\n",
    "There are many factors that influence the well-being of workers, but one of the main ones is undoubtedly the salary. It is important to keep in mind that, for the same job, employees can be rewarded with very different salaries, since there are many factors that influence it, such as the size of the company, productivity, the current cost of living, the years of experience or education level of the workers.\n",
    "\n",
    "To carry out the study of this phenomenon, I have used as reference a dataset found through [Salary_Data Kaggle](https://www.kaggle.com/datasets/mohithsairamreddy/salary-data/data?select=Salary_Data.csv), which analizes the salary of workers based on different variables such as: age, gender, education level, years of experience and the role played within the company.\n",
    "\n",
    "In my case, for this project, I am going to focus on the next variables: \n",
    "\n",
    "- Gender\n",
    "- Education Level\n",
    "- Years of experience \n",
    "- Salary\n",
    "\n",
    "* **Gender**: the variable gender is a nominal variable with two different outputs, male and female. In the case of the database taken as reference, the 54% of the employees were male and the 46% were females.\n",
    "\n",
    "* **Education Level**: this variable is a categorical variable with 4 different options: High School, Bachelor's Degree, master's degree and PHD. As per the sample taken as reference, we find that the 45% of the employees have a bachelor's degree. The 28% have a master's degree, the 20% of the employees have a PHD; and the 7% have a High School diploma.\n",
    "\n",
    "* **Years of experience**: in this case, this is a non negative numerical variable which goes from 0 in the case of someone with no experience to 34 years of experience in the reference dataset.\n",
    "\n",
    "* **Salary**: this variable is a numerical one which will be related to the years of experience and the education level of the employees. In the sample, the minimum salary of an employee was $35000 per year and the maximum was $250000 per year.\n",
    "Other important information taken out from the original dataset is the following:\n",
    "- High School employees have an average salary of $36700 per year, being the min salary 25000 and the max 166000\n",
    "- Bachelors Degree employees, have an average salary of 95000 per year, being the min salary 30000 and the max 250000\n",
    "- Master Degree employees, have an average salary of 130000 per year, being the min salary 32000 and the max 228000\n",
    "- PhD employees, have an average salary of 165000 per year, being the min salary 30000 and the max salary 250000\n",
    "\n",
    "In the case of the years of experience, I will set the sample in diferent ranges, for example:\n",
    "- 0 to 5 years: employees with experience between 0 and 5 years have an average salary of 69000 per year, being the min salary 25000 and the max 182000 per year.\n",
    "- 6 to 15 years: employees with experience between 6 and 15 years have an average salary of 138000 per year, being the min salary 45000 and the max 210000\n",
    "- 16 to 25 years: employees with experience between 16 to 25 years have an average salary of 184000 per year, being the min salary 100000 and the max 250000\n",
    "- More than 25 years: employees with more that 25 years of experience, earn an average salary of 185000 per year, being the min salary 121000 and the max 200000\n",
    "\n",
    "In order to start the study on the behavior of all these variables, we need to import some necessary packages for this project."
   ]
  },
  {
   "cell_type": "code",
   "execution_count": 1,
   "metadata": {},
   "outputs": [],
   "source": [
    "import numpy as np \n",
    "import pandas as pd \n",
    "import matplotlib.pyplot as plt"
   ]
  },
  {
   "cell_type": "code",
   "execution_count": 2,
   "metadata": {},
   "outputs": [
    {
     "name": "stdout",
     "output_type": "stream",
     "text": [
      "['Female' 'Male' 'Male' 'Female' 'Male' 'Male' 'Female' 'Female' 'Male'\n",
      " 'Female' 'Female' 'Male' 'Male' 'Male' 'Male' 'Female' 'Female' 'Male'\n",
      " 'Female' 'Male' 'Male' 'Female' 'Female' 'Male' 'Male' 'Male' 'Male'\n",
      " 'Male' 'Female' 'Male' 'Female' 'Female' 'Male' 'Male' 'Male' 'Female'\n",
      " 'Female' 'Male' 'Female' 'Female' 'Female' 'Female' 'Female' 'Male'\n",
      " 'Male' 'Female' 'Female' 'Male' 'Male' 'Female' 'Female' 'Female' 'Male'\n",
      " 'Female' 'Male' 'Male' 'Male' 'Male' 'Male' 'Male' 'Male' 'Female'\n",
      " 'Female' 'Male' 'Female' 'Female' 'Female' 'Male' 'Male' 'Male' 'Male'\n",
      " 'Male' 'Male' 'Female' 'Female' 'Female' 'Female' 'Male' 'Male' 'Male'\n",
      " 'Male' 'Male' 'Male' 'Female' 'Male' 'Male' 'Female' 'Female' 'Male'\n",
      " 'Female' 'Female' 'Male' 'Male' 'Male' 'Male' 'Female' 'Male' 'Female'\n",
      " 'Male' 'Female']\n"
     ]
    }
   ],
   "source": [
    "# To create the random data for the variables I will seed the random generator to freeze the output.\n",
    "np.random.seed(100)\n",
    "gender = ['Male', 'Female']\n",
    "gender = np.random.choice(gender, size=100, p=[0.54, 0.46])\n",
    "print(gender)"
   ]
  },
  {
   "cell_type": "code",
   "execution_count": 3,
   "metadata": {},
   "outputs": [
    {
     "name": "stdout",
     "output_type": "stream",
     "text": [
      "56\n",
      "44\n"
     ]
    }
   ],
   "source": [
    "# Count the number of male and female in the sample\n",
    "male_count = np.count_nonzero(gender == 'Male')\n",
    "female_count = np.count_nonzero(gender == 'Female')\n",
    "\n",
    "print(male_count)\n",
    "print(female_count)\n"
   ]
  },
  {
   "cell_type": "code",
   "execution_count": 4,
   "metadata": {},
   "outputs": [
    {
     "data": {
      "image/png": "[encoded data removed]",
      "text/plain": [
       "<Figure size 640x480 with 1 Axes>"
      ]
     },
     "metadata": {},
     "output_type": "display_data"
    }
   ],
   "source": [
    "plt.hist(gender, bins=2, color=\"blue\", alpha=0.4)\n",
    "plt.title(\"Gender Distribution\")\n",
    "plt.xlabel(\"Gender\")\n",
    "plt.ylabel(\"Frequency\")\n",
    "plt.show()"
   ]
  },
  {
   "cell_type": "code",
   "execution_count": 5,
   "metadata": {},
   "outputs": [
    {
     "name": "stdout",
     "output_type": "stream",
     "text": [
      "['Master degree' 'Master degree' 'Master degree' 'Bachelor degree'\n",
      " 'Master degree' 'PHD' 'Master degree' 'PHD' 'PHD' 'Bachelor degree'\n",
      " 'High school' 'Bachelor degree' 'PHD' 'PHD' 'Bachelor degree'\n",
      " 'Bachelor degree' 'Master degree' 'Bachelor degree' 'Bachelor degree'\n",
      " 'Master degree' 'Bachelor degree' 'Master degree' 'Master degree'\n",
      " 'High school' 'Bachelor degree' 'Bachelor degree' 'Bachelor degree'\n",
      " 'Bachelor degree' 'Bachelor degree' 'Bachelor degree' 'Bachelor degree'\n",
      " 'Bachelor degree' 'PHD' 'High school' 'High school' 'Bachelor degree'\n",
      " 'Master degree' 'PHD' 'PHD' 'PHD' 'Bachelor degree' 'Master degree'\n",
      " 'Master degree' 'Bachelor degree' 'PHD' 'Bachelor degree' 'PHD'\n",
      " 'Master degree' 'Bachelor degree' 'Bachelor degree' 'Bachelor degree'\n",
      " 'Bachelor degree' 'Master degree' 'Master degree' 'Bachelor degree'\n",
      " 'Bachelor degree' 'Master degree' 'Bachelor degree' 'Bachelor degree'\n",
      " 'Bachelor degree' 'Bachelor degree' 'Bachelor degree' 'Bachelor degree'\n",
      " 'PHD' 'Master degree' 'Master degree' 'Bachelor degree' 'Bachelor degree'\n",
      " 'Master degree' 'Master degree' 'Bachelor degree' 'Bachelor degree'\n",
      " 'Bachelor degree' 'Bachelor degree' 'PHD' 'PHD' 'Master degree'\n",
      " 'Bachelor degree' 'Bachelor degree' 'PHD' 'Master degree' 'PHD'\n",
      " 'Bachelor degree' 'Bachelor degree' 'Bachelor degree' 'PHD'\n",
      " 'Bachelor degree' 'Master degree' 'PHD' 'Bachelor degree'\n",
      " 'Bachelor degree' 'Master degree' 'PHD' 'PHD' 'Bachelor degree'\n",
      " 'Master degree' 'Master degree' 'PHD' 'Bachelor degree' 'Bachelor degree']\n"
     ]
    }
   ],
   "source": [
    "def generate_education_level(size):\n",
    "    education_levels = ['High school', 'Bachelor degree', 'Master degree', 'PHD']\n",
    "    probabilities = [0.07, 0.45, 0.28, 0.20]  # Probabilities according to the original dataset\n",
    "\n",
    "    # Generate the new variable\n",
    "    education_data = np.random.choice(education_levels, size=size, p=probabilities)\n",
    "\n",
    "    return education_data\n",
    "\n",
    "# Set a sample of 100 observations\n",
    "education_level = generate_education_level(100)\n",
    "\n",
    "# Print the sample generated\n",
    "print(education_level)"
   ]
  },
  {
   "cell_type": "code",
   "execution_count": 6,
   "metadata": {},
   "outputs": [
    {
     "name": "stdout",
     "output_type": "stream",
     "text": [
      "4\n",
      "49\n",
      "26\n",
      "21\n"
     ]
    }
   ],
   "source": [
    "# Count the number of education level in the sample\n",
    "HighSchool = np.count_nonzero(education_level == 'High school')\n",
    "BachelorDegree = np.count_nonzero(education_level == 'Bachelor degree')\n",
    "MasterDegree = np.count_nonzero(education_level == 'Master degree')\n",
    "PHD = np.count_nonzero(education_level == 'PHD')\n",
    "\n",
    "print(HighSchool)\n",
    "print(BachelorDegree)\n",
    "print(MasterDegree)\n",
    "print(PHD)"
   ]
  },
  {
   "cell_type": "code",
   "execution_count": 7,
   "metadata": {},
   "outputs": [
    {
     "data": {
      "image/png": "[encoded data removed]",
      "text/plain": [
       "<Figure size 640x480 with 1 Axes>"
      ]
     },
     "metadata": {},
     "output_type": "display_data"
    }
   ],
   "source": [
    "plt.hist(education_level, bins=4, color=\"blue\", alpha=0.4)\n",
    "plt.title(\"Education Level\")\n",
    "plt.xlabel(\"Education Level\")\n",
    "plt.ylabel(\"Frequency\")\n",
    "plt.show()"
   ]
  },
  {
   "cell_type": "code",
   "execution_count": 8,
   "metadata": {},
   "outputs": [
    {
     "name": "stdout",
     "output_type": "stream",
     "text": [
      "[24 23  8 13 25 31 10 16 23 20 17 15 21 19 20  3 10 11  6 26 17 12  8  0\n",
      " 30 18 27  6 32 24 16  5 16 34 17 22 16  3 12 25  5  2  0  9 13  3 15 18\n",
      " 20 15 13 11 24 17 20 24 19 27 21  0  9  1 33 32 22 26 22 28  6 30  3 28\n",
      " 31 19 14  7 13 12  2 18  2 32  6 25 31 18 12 17 33  2 30 18  2  7  1 21\n",
      " 13 30 28 16]\n"
     ]
    }
   ],
   "source": [
    "# Generate a sample of 100 employees with years of experience between 0 and 34\n",
    "years_experience = np.random.randint(0, 35, size=100)\n",
    "\n",
    "# Print the generated samples\n",
    "print(years_experience)"
   ]
  },
  {
   "cell_type": "markdown",
   "metadata": {},
   "source": [
    "## 7. References\n",
    "\n",
    "[01] [Python](https://www.python.org/)\\\n",
    "[02] [Numpy](https://numpy.org/doc/stable/user/whatisnumpy.html)\\\n",
    "[03] [Pandas](https://pandas.pydata.org/)\\\n",
    "[04] [Matplotlib](https://matplotlib.org/)\\\n",
    "[05] [Seaborn](https://seaborn.pydata.org/)\\"
   ]
  }
 ],
 "metadata": {
  "kernelspec": {
   "display_name": "base",
   "language": "python",
   "name": "python3"
  },
  "language_info": {
   "codemirror_mode": {
    "name": "ipython",
    "version": 3
   },
   "file_extension": ".py",
   "mimetype": "text/x-python",
   "name": "python",
   "nbconvert_exporter": "python",
   "pygments_lexer": "ipython3",
   "version": "3.9.13"
  },
  "orig_nbformat": 4
 },
 "nbformat": 4,
 "nbformat_minor": 2
}
